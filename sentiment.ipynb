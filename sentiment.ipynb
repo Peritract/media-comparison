{
 "cells": [
  {
   "cell_type": "markdown",
   "metadata": {},
   "source": [
    "# Sentiment analysis\n",
    "\n",
    "This notebook identifies the sentiment of headlines\n",
    "\n",
    "## Imports"
   ]
  },
  {
   "cell_type": "code",
   "execution_count": 44,
   "metadata": {},
   "outputs": [],
   "source": [
    "import pandas as pd\n",
    "from nltk.sentiment.vader import SentimentIntensityAnalyzer\n",
    "import seaborn as sns"
   ]
  },
  {
   "cell_type": "markdown",
   "metadata": {},
   "source": [
    "## Setup"
   ]
  },
  {
   "cell_type": "code",
   "execution_count": 31,
   "metadata": {},
   "outputs": [],
   "source": [
    "# Don't truncate text in columns\n",
    "\n",
    "pd.set_option(\"max_colwidth\", 0)"
   ]
  },
  {
   "cell_type": "markdown",
   "metadata": {},
   "source": [
    "## Data sourcing"
   ]
  },
  {
   "cell_type": "code",
   "execution_count": 2,
   "metadata": {},
   "outputs": [],
   "source": [
    "headlines = pd.read_csv(\"./data/processed_headlines.csv\")"
   ]
  },
  {
   "cell_type": "markdown",
   "metadata": {},
   "source": [
    "## Sentiment analysis"
   ]
  },
  {
   "cell_type": "code",
   "execution_count": 3,
   "metadata": {},
   "outputs": [],
   "source": [
    "# Make an analyser\n",
    "\n",
    "vader = SentimentIntensityAnalyzer()"
   ]
  },
  {
   "cell_type": "code",
   "execution_count": 23,
   "metadata": {},
   "outputs": [],
   "source": [
    "# Apply the analyser to the dataframe\n",
    "\n",
    "headlines[\"sentiment_score\"] = headlines[\"title\"].apply(lambda x: vader.polarity_scores(x)[\"compound\"])"
   ]
  },
  {
   "cell_type": "code",
   "execution_count": 37,
   "metadata": {},
   "outputs": [],
   "source": [
    "headlines[\"sentiment_category\"] = headlines[\"sentiment_score\"].apply(lambda score: \"neutral\"\n",
    "                                                                     if -0.4 < score < 0.4\n",
    "                                                                     else 'negative'\n",
    "                                                                     if score < 0\n",
    "                                                                     else 'positive')"
   ]
  },
  {
   "cell_type": "code",
   "execution_count": 35,
   "metadata": {},
   "outputs": [
    {
     "data": {
      "text/plain": [
       "source\n",
       "BBC          -0.053292\n",
       "Daily Mail   -0.221979\n",
       "Name: sentiment_score, dtype: float64"
      ]
     },
     "execution_count": 35,
     "metadata": {},
     "output_type": "execute_result"
    }
   ],
   "source": [
    "headlines.groupby(\"source\")[\"sentiment_score\"].mean()"
   ]
  },
  {
   "cell_type": "code",
   "execution_count": 34,
   "metadata": {},
   "outputs": [
    {
     "data": {
      "text/html": [
       "<div>\n",
       "<style scoped>\n",
       "    .dataframe tbody tr th:only-of-type {\n",
       "        vertical-align: middle;\n",
       "    }\n",
       "\n",
       "    .dataframe tbody tr th {\n",
       "        vertical-align: top;\n",
       "    }\n",
       "\n",
       "    .dataframe thead th {\n",
       "        text-align: right;\n",
       "    }\n",
       "</style>\n",
       "<table border=\"1\" class=\"dataframe\">\n",
       "  <thead>\n",
       "    <tr style=\"text-align: right;\">\n",
       "      <th></th>\n",
       "      <th>title</th>\n",
       "      <th>sentiment_score</th>\n",
       "      <th>source</th>\n",
       "    </tr>\n",
       "  </thead>\n",
       "  <tbody>\n",
       "    <tr>\n",
       "      <th>79</th>\n",
       "      <td>PROFESSOR FRANK FUREDI: The new obsession of museums to wage war on the past means they're not doing their most basic job - caring for our greatest treasures</td>\n",
       "      <td>0.6326</td>\n",
       "      <td>Daily Mail</td>\n",
       "    </tr>\n",
       "    <tr>\n",
       "      <th>95</th>\n",
       "      <td>Moment woman chained to the floor of a Kentucky home like a dog is freed by axe-wielding cops</td>\n",
       "      <td>0.6369</td>\n",
       "      <td>Daily Mail</td>\n",
       "    </tr>\n",
       "    <tr>\n",
       "      <th>54</th>\n",
       "      <td>SARAH SANDS: How the rescue of Peggy the short-sighted hedgehog brought such solace in my beloved father's last days</td>\n",
       "      <td>0.6597</td>\n",
       "      <td>Daily Mail</td>\n",
       "    </tr>\n",
       "    <tr>\n",
       "      <th>41</th>\n",
       "      <td>PETER HITCHENS: We need a serious debate about the death penalty - but not while our criminal justice system is a shuddering jalopy quite unfit for its job</td>\n",
       "      <td>0.6872</td>\n",
       "      <td>Daily Mail</td>\n",
       "    </tr>\n",
       "    <tr>\n",
       "      <th>2</th>\n",
       "      <td>Yevgeny Prigozhin was assassinated 'as a gift for Zelensky to celebrate Ukraine's victory day today', Putin's former spokesman claims</td>\n",
       "      <td>0.7650</td>\n",
       "      <td>Daily Mail</td>\n",
       "    </tr>\n",
       "    <tr>\n",
       "      <th>145</th>\n",
       "      <td>World Championships 2023: Josh Kerr 'throws 16 years in the sport at the final 200m' to become 1500m champion</td>\n",
       "      <td>0.7964</td>\n",
       "      <td>BBC</td>\n",
       "    </tr>\n",
       "    <tr>\n",
       "      <th>126</th>\n",
       "      <td>World Championships 2023: Katie Moon and Nina Kennedy share pole vault gold medal in Budapest</td>\n",
       "      <td>0.8176</td>\n",
       "      <td>BBC</td>\n",
       "    </tr>\n",
       "    <tr>\n",
       "      <th>90</th>\n",
       "      <td>Making a splash! Queen Silvia of Sweden stuns in a beautiful blue dress as she joins King Carl Gustaf at the Stockholm Water Prize ceremony</td>\n",
       "      <td>0.8221</td>\n",
       "      <td>Daily Mail</td>\n",
       "    </tr>\n",
       "    <tr>\n",
       "      <th>12</th>\n",
       "      <td>Orphaned rescue deer becomes best friends with toddler who spends hours playing with him</td>\n",
       "      <td>0.9081</td>\n",
       "      <td>Daily Mail</td>\n",
       "    </tr>\n",
       "    <tr>\n",
       "      <th>147</th>\n",
       "      <td>World Athletics Championships 2023: Great Britain's Josh Kerr wins stunning 1500m gold</td>\n",
       "      <td>0.9274</td>\n",
       "      <td>BBC</td>\n",
       "    </tr>\n",
       "  </tbody>\n",
       "</table>\n",
       "</div>"
      ],
      "text/plain": [
       "                                                                                                                                                             title  \\\n",
       "79   PROFESSOR FRANK FUREDI: The new obsession of museums to wage war on the past means they're not doing their most basic job - caring for our greatest treasures   \n",
       "95   Moment woman chained to the floor of a Kentucky home like a dog is freed by axe-wielding cops                                                                   \n",
       "54   SARAH SANDS: How the rescue of Peggy the short-sighted hedgehog brought such solace in my beloved father's last days                                            \n",
       "41   PETER HITCHENS: We need a serious debate about the death penalty - but not while our criminal justice system is a shuddering jalopy quite unfit for its job     \n",
       "2    Yevgeny Prigozhin was assassinated 'as a gift for Zelensky to celebrate Ukraine's victory day today', Putin's former spokesman claims                           \n",
       "145  World Championships 2023: Josh Kerr 'throws 16 years in the sport at the final 200m' to become 1500m champion                                                   \n",
       "126  World Championships 2023: Katie Moon and Nina Kennedy share pole vault gold medal in Budapest                                                                   \n",
       "90   Making a splash! Queen Silvia of Sweden stuns in a beautiful blue dress as she joins King Carl Gustaf at the Stockholm Water Prize ceremony                     \n",
       "12   Orphaned rescue deer becomes best friends with toddler who spends hours playing with him                                                                        \n",
       "147  World Athletics Championships 2023: Great Britain's Josh Kerr wins stunning 1500m gold                                                                          \n",
       "\n",
       "     sentiment_score      source  \n",
       "79   0.6326           Daily Mail  \n",
       "95   0.6369           Daily Mail  \n",
       "54   0.6597           Daily Mail  \n",
       "41   0.6872           Daily Mail  \n",
       "2    0.7650           Daily Mail  \n",
       "145  0.7964           BBC         \n",
       "126  0.8176           BBC         \n",
       "90   0.8221           Daily Mail  \n",
       "12   0.9081           Daily Mail  \n",
       "147  0.9274           BBC         "
      ]
     },
     "execution_count": 34,
     "metadata": {},
     "output_type": "execute_result"
    }
   ],
   "source": [
    "headlines.sort_values('sentiment_score')[[\"title\", \"sentiment_score\", \"source\"]].tail(10)"
   ]
  },
  {
   "cell_type": "code",
   "execution_count": 39,
   "metadata": {},
   "outputs": [
    {
     "data": {
      "text/html": [
       "<div>\n",
       "<style scoped>\n",
       "    .dataframe tbody tr th:only-of-type {\n",
       "        vertical-align: middle;\n",
       "    }\n",
       "\n",
       "    .dataframe tbody tr th {\n",
       "        vertical-align: top;\n",
       "    }\n",
       "\n",
       "    .dataframe thead th {\n",
       "        text-align: right;\n",
       "    }\n",
       "</style>\n",
       "<table border=\"1\" class=\"dataframe\">\n",
       "  <thead>\n",
       "    <tr style=\"text-align: right;\">\n",
       "      <th></th>\n",
       "      <th>title</th>\n",
       "      <th>sentiment_category</th>\n",
       "    </tr>\n",
       "  </thead>\n",
       "  <tbody>\n",
       "    <tr>\n",
       "      <th>2</th>\n",
       "      <td>Yevgeny Prigozhin was assassinated 'as a gift for Zelensky to celebrate Ukraine's victory day today', Putin's former spokesman claims</td>\n",
       "      <td>positive</td>\n",
       "    </tr>\n",
       "    <tr>\n",
       "      <th>9</th>\n",
       "      <td>Jamie Oliver shares a supportive message to children who have dyslexia as they receive their GCSE results, saying: 'The education system doesn't play to their strengths'</td>\n",
       "      <td>positive</td>\n",
       "    </tr>\n",
       "    <tr>\n",
       "      <th>12</th>\n",
       "      <td>Orphaned rescue deer becomes best friends with toddler who spends hours playing with him</td>\n",
       "      <td>positive</td>\n",
       "    </tr>\n",
       "    <tr>\n",
       "      <th>18</th>\n",
       "      <td>How Lady Amelia Windsor uses her growing platform to promote sustainable living</td>\n",
       "      <td>positive</td>\n",
       "    </tr>\n",
       "    <tr>\n",
       "      <th>19</th>\n",
       "      <td>Full list of GCSE results day free food and deals for students from Nando's to Frankie &amp; Benny's</td>\n",
       "      <td>positive</td>\n",
       "    </tr>\n",
       "    <tr>\n",
       "      <th>37</th>\n",
       "      <td>EPHRAIM HARDCASTLE: Chris Patten is set to open up on his time as the last governor of Hong Kong at a literature festival as he saves his 'most withering comments' for Sinophile diplomats in London</td>\n",
       "      <td>positive</td>\n",
       "    </tr>\n",
       "    <tr>\n",
       "      <th>41</th>\n",
       "      <td>PETER HITCHENS: We need a serious debate about the death penalty - but not while our criminal justice system is a shuddering jalopy quite unfit for its job</td>\n",
       "      <td>positive</td>\n",
       "    </tr>\n",
       "    <tr>\n",
       "      <th>49</th>\n",
       "      <td>Fundraiser is launched to appeal Lucy Letby's conviction for murdering babies - as campaigner claims trial 'may represent one of the greatest miscarriages of justice ever'</td>\n",
       "      <td>positive</td>\n",
       "    </tr>\n",
       "    <tr>\n",
       "      <th>54</th>\n",
       "      <td>SARAH SANDS: How the rescue of Peggy the short-sighted hedgehog brought such solace in my beloved father's last days</td>\n",
       "      <td>positive</td>\n",
       "    </tr>\n",
       "    <tr>\n",
       "      <th>58</th>\n",
       "      <td>Kemi Badenoch hails the UK's 'thriving relationship' with India as talks progress for a major new trade deal</td>\n",
       "      <td>positive</td>\n",
       "    </tr>\n",
       "    <tr>\n",
       "      <th>72</th>\n",
       "      <td>Teenagers obsessed with perfect selfies have killed off the joy of family holiday snaps, writes LOWRI TURNER</td>\n",
       "      <td>positive</td>\n",
       "    </tr>\n",
       "    <tr>\n",
       "      <th>73</th>\n",
       "      <td>It's billed as the new way for despairing daters to find a partner. But does it leave women feeling empowered - or desperate: Would you wear the green ring that tells the world you're single and looking for love?</td>\n",
       "      <td>positive</td>\n",
       "    </tr>\n",
       "    <tr>\n",
       "      <th>79</th>\n",
       "      <td>PROFESSOR FRANK FUREDI: The new obsession of museums to wage war on the past means they're not doing their most basic job - caring for our greatest treasures</td>\n",
       "      <td>positive</td>\n",
       "    </tr>\n",
       "    <tr>\n",
       "      <th>88</th>\n",
       "      <td>Popular ITV reality show reboot is commissioned for a second season before the first even airs: 'It will be a hit!'</td>\n",
       "      <td>positive</td>\n",
       "    </tr>\n",
       "    <tr>\n",
       "      <th>89</th>\n",
       "      <td>Londoners snap up classic cars to dodge ULEZ: Dealers see surge in interest for older models as capital braces for expansion of £12.50 zone</td>\n",
       "      <td>positive</td>\n",
       "    </tr>\n",
       "    <tr>\n",
       "      <th>90</th>\n",
       "      <td>Making a splash! Queen Silvia of Sweden stuns in a beautiful blue dress as she joins King Carl Gustaf at the Stockholm Water Prize ceremony</td>\n",
       "      <td>positive</td>\n",
       "    </tr>\n",
       "    <tr>\n",
       "      <th>94</th>\n",
       "      <td>Bigger Premium Bonds prizes makes them more attractive, says LEE BOYCE - but is it time to ramp up £1m jackpots?</td>\n",
       "      <td>positive</td>\n",
       "    </tr>\n",
       "    <tr>\n",
       "      <th>95</th>\n",
       "      <td>Moment woman chained to the floor of a Kentucky home like a dog is freed by axe-wielding cops</td>\n",
       "      <td>positive</td>\n",
       "    </tr>\n",
       "    <tr>\n",
       "      <th>102</th>\n",
       "      <td>Little-known US Republican is a debate winner at rowdy event</td>\n",
       "      <td>positive</td>\n",
       "    </tr>\n",
       "    <tr>\n",
       "      <th>106</th>\n",
       "      <td>World Championships 2023: Britain's Josh Kerr stuns Jakob Ingebrigtsen to take gold</td>\n",
       "      <td>positive</td>\n",
       "    </tr>\n",
       "    <tr>\n",
       "      <th>107</th>\n",
       "      <td>Man wins payout over Reading probation office monkey chants</td>\n",
       "      <td>positive</td>\n",
       "    </tr>\n",
       "    <tr>\n",
       "      <th>126</th>\n",
       "      <td>World Championships 2023: Katie Moon and Nina Kennedy share pole vault gold medal in Budapest</td>\n",
       "      <td>positive</td>\n",
       "    </tr>\n",
       "    <tr>\n",
       "      <th>131</th>\n",
       "      <td>Will a 'millennial Trump' win the Republican TV debate?</td>\n",
       "      <td>positive</td>\n",
       "    </tr>\n",
       "    <tr>\n",
       "      <th>132</th>\n",
       "      <td>Thaksin's return seals grand Thai political bargain</td>\n",
       "      <td>positive</td>\n",
       "    </tr>\n",
       "    <tr>\n",
       "      <th>145</th>\n",
       "      <td>World Championships 2023: Josh Kerr 'throws 16 years in the sport at the final 200m' to become 1500m champion</td>\n",
       "      <td>positive</td>\n",
       "    </tr>\n",
       "    <tr>\n",
       "      <th>147</th>\n",
       "      <td>World Athletics Championships 2023: Great Britain's Josh Kerr wins stunning 1500m gold</td>\n",
       "      <td>positive</td>\n",
       "    </tr>\n",
       "    <tr>\n",
       "      <th>160</th>\n",
       "      <td>Fuel cost: How to save petrol and diesel</td>\n",
       "      <td>positive</td>\n",
       "    </tr>\n",
       "    <tr>\n",
       "      <th>163</th>\n",
       "      <td>Mortgage rates: Five ways to save money</td>\n",
       "      <td>positive</td>\n",
       "    </tr>\n",
       "  </tbody>\n",
       "</table>\n",
       "</div>"
      ],
      "text/plain": [
       "                                                                                                                                                                                                                    title  \\\n",
       "2    Yevgeny Prigozhin was assassinated 'as a gift for Zelensky to celebrate Ukraine's victory day today', Putin's former spokesman claims                                                                                  \n",
       "9    Jamie Oliver shares a supportive message to children who have dyslexia as they receive their GCSE results, saying: 'The education system doesn't play to their strengths'                                              \n",
       "12   Orphaned rescue deer becomes best friends with toddler who spends hours playing with him                                                                                                                               \n",
       "18   How Lady Amelia Windsor uses her growing platform to promote sustainable living                                                                                                                                        \n",
       "19   Full list of GCSE results day free food and deals for students from Nando's to Frankie & Benny's                                                                                                                       \n",
       "37   EPHRAIM HARDCASTLE: Chris Patten is set to open up on his time as the last governor of Hong Kong at a literature festival as he saves his 'most withering comments' for Sinophile diplomats in London                  \n",
       "41   PETER HITCHENS: We need a serious debate about the death penalty - but not while our criminal justice system is a shuddering jalopy quite unfit for its job                                                            \n",
       "49   Fundraiser is launched to appeal Lucy Letby's conviction for murdering babies - as campaigner claims trial 'may represent one of the greatest miscarriages of justice ever'                                            \n",
       "54   SARAH SANDS: How the rescue of Peggy the short-sighted hedgehog brought such solace in my beloved father's last days                                                                                                   \n",
       "58   Kemi Badenoch hails the UK's 'thriving relationship' with India as talks progress for a major new trade deal                                                                                                           \n",
       "72   Teenagers obsessed with perfect selfies have killed off the joy of family holiday snaps, writes LOWRI TURNER                                                                                                           \n",
       "73   It's billed as the new way for despairing daters to find a partner. But does it leave women feeling empowered - or desperate: Would you wear the green ring that tells the world you're single and looking for love?   \n",
       "79   PROFESSOR FRANK FUREDI: The new obsession of museums to wage war on the past means they're not doing their most basic job - caring for our greatest treasures                                                          \n",
       "88   Popular ITV reality show reboot is commissioned for a second season before the first even airs: 'It will be a hit!'                                                                                                    \n",
       "89   Londoners snap up classic cars to dodge ULEZ: Dealers see surge in interest for older models as capital braces for expansion of £12.50 zone                                                                            \n",
       "90   Making a splash! Queen Silvia of Sweden stuns in a beautiful blue dress as she joins King Carl Gustaf at the Stockholm Water Prize ceremony                                                                            \n",
       "94   Bigger Premium Bonds prizes makes them more attractive, says LEE BOYCE - but is it time to ramp up £1m jackpots?                                                                                                       \n",
       "95   Moment woman chained to the floor of a Kentucky home like a dog is freed by axe-wielding cops                                                                                                                          \n",
       "102  Little-known US Republican is a debate winner at rowdy event                                                                                                                                                           \n",
       "106  World Championships 2023: Britain's Josh Kerr stuns Jakob Ingebrigtsen to take gold                                                                                                                                    \n",
       "107  Man wins payout over Reading probation office monkey chants                                                                                                                                                            \n",
       "126  World Championships 2023: Katie Moon and Nina Kennedy share pole vault gold medal in Budapest                                                                                                                          \n",
       "131  Will a 'millennial Trump' win the Republican TV debate?                                                                                                                                                                \n",
       "132  Thaksin's return seals grand Thai political bargain                                                                                                                                                                    \n",
       "145  World Championships 2023: Josh Kerr 'throws 16 years in the sport at the final 200m' to become 1500m champion                                                                                                          \n",
       "147  World Athletics Championships 2023: Great Britain's Josh Kerr wins stunning 1500m gold                                                                                                                                 \n",
       "160  Fuel cost: How to save petrol and diesel                                                                                                                                                                               \n",
       "163  Mortgage rates: Five ways to save money                                                                                                                                                                                \n",
       "\n",
       "    sentiment_category  \n",
       "2    positive           \n",
       "9    positive           \n",
       "12   positive           \n",
       "18   positive           \n",
       "19   positive           \n",
       "37   positive           \n",
       "41   positive           \n",
       "49   positive           \n",
       "54   positive           \n",
       "58   positive           \n",
       "72   positive           \n",
       "73   positive           \n",
       "79   positive           \n",
       "88   positive           \n",
       "89   positive           \n",
       "90   positive           \n",
       "94   positive           \n",
       "95   positive           \n",
       "102  positive           \n",
       "106  positive           \n",
       "107  positive           \n",
       "126  positive           \n",
       "131  positive           \n",
       "132  positive           \n",
       "145  positive           \n",
       "147  positive           \n",
       "160  positive           \n",
       "163  positive           "
      ]
     },
     "execution_count": 39,
     "metadata": {},
     "output_type": "execute_result"
    }
   ],
   "source": [
    "headlines[[\"title\", \"sentiment_category\"]][headlines[\"sentiment_category\"] == \"positive\"]"
   ]
  },
  {
   "cell_type": "code",
   "execution_count": 41,
   "metadata": {},
   "outputs": [
    {
     "data": {
      "text/plain": [
       "{'neg': 0.636, 'neu': 0.364, 'pos': 0.0, 'compound': -0.5423}"
      ]
     },
     "execution_count": 41,
     "metadata": {},
     "output_type": "execute_result"
    }
   ],
   "source": [
    "vader.polarity_scores(\"pass grades fail\")"
   ]
  },
  {
   "cell_type": "code",
   "execution_count": 47,
   "metadata": {},
   "outputs": [
    {
     "data": {
      "text/plain": [
       "<Axes: xlabel='sentiment_category', ylabel='count'>"
      ]
     },
     "execution_count": 47,
     "metadata": {},
     "output_type": "execute_result"
    },
    {
     "data": {
      "image/png": "[encoded data removed]",
      "text/plain": [
       "<Figure size 640x480 with 1 Axes>"
      ]
     },
     "metadata": {},
     "output_type": "display_data"
    }
   ],
   "source": [
    "sns.countplot(headlines, x=\"sentiment_category\", hue=\"source\")"
   ]
  },
  {
   "cell_type": "code",
   "execution_count": null,
   "metadata": {},
   "outputs": [],
   "source": []
  }
 ],
 "metadata": {
  "kernelspec": {
   "display_name": "venv",
   "language": "python",
   "name": "python3"
  },
  "language_info": {
   "codemirror_mode": {
    "name": "ipython",
    "version": 3
   },
   "file_extension": ".py",
   "mimetype": "text/x-python",
   "name": "python",
   "nbconvert_exporter": "python",
   "pygments_lexer": "ipython3",
   "version": "3.11.4"
  },
  "orig_nbformat": 4
 },
 "nbformat": 4,
 "nbformat_minor": 2
}
