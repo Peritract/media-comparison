{
 "cells": [
  {
   "cell_type": "markdown",
   "metadata": {},
   "source": [
    "# Headline processing\n",
    "\n",
    "This notebook cleans the headlines and produces a CSV containing simplified tokens.\n",
    "\n",
    "## Imports"
   ]
  },
  {
   "cell_type": "code",
   "execution_count": 87,
   "metadata": {},
   "outputs": [],
   "source": [
    "import pandas as pd\n",
    "from nltk.tokenize import word_tokenize\n",
    "from nltk.corpus import stopwords\n",
    "from collections import defaultdict\n",
    "from nltk import pos_tag\n",
    "from nltk.stem import WordNetLemmatizer\n",
    "import matplotlib.pyplot as plt\n",
    "import seaborn as sns"
   ]
  },
  {
   "cell_type": "markdown",
   "metadata": {},
   "source": [
    "## Setup"
   ]
  },
  {
   "cell_type": "code",
   "execution_count": 88,
   "metadata": {},
   "outputs": [],
   "source": [
    "# Don't truncate text in columns\n",
    "\n",
    "pd.set_option(\"max_colwidth\", 0)"
   ]
  },
  {
   "cell_type": "markdown",
   "metadata": {},
   "source": [
    "## Data sourcing"
   ]
  },
  {
   "cell_type": "code",
   "execution_count": 89,
   "metadata": {},
   "outputs": [
    {
     "data": {
      "text/html": [
       "<div>\n",
       "<style scoped>\n",
       "    .dataframe tbody tr th:only-of-type {\n",
       "        vertical-align: middle;\n",
       "    }\n",
       "\n",
       "    .dataframe tbody tr th {\n",
       "        vertical-align: top;\n",
       "    }\n",
       "\n",
       "    .dataframe thead th {\n",
       "        text-align: right;\n",
       "    }\n",
       "</style>\n",
       "<table border=\"1\" class=\"dataframe\">\n",
       "  <thead>\n",
       "    <tr style=\"text-align: right;\">\n",
       "      <th></th>\n",
       "      <th>title</th>\n",
       "      <th>description</th>\n",
       "      <th>link</th>\n",
       "      <th>source</th>\n",
       "    </tr>\n",
       "  </thead>\n",
       "  <tbody>\n",
       "    <tr>\n",
       "      <th>0</th>\n",
       "      <td>Top GCSE marks tumble by 4.3% and passes return to pre-Covid levels - as students in England suffer sharpest drop while Wales and Northern Ireland keep inflated grades</td>\n",
       "      <td>Hundreds of thousands of teenagers across Britain received their GCSE results today in a year when efforts have been made in England to return grading to pre-pandemic levels.</td>\n",
       "      <td>https://www.dailymail.co.uk/news/article-12440091/Top-GCSE-marks-drop-203-000-fewer-7-9-grades.html?ns_mchannel=rss&amp;ito=1490&amp;ns_campaign=1490</td>\n",
       "      <td>Daily Mail</td>\n",
       "    </tr>\n",
       "    <tr>\n",
       "      <th>1</th>\n",
       "      <td>Fell short on GCSE results day? Here's what to do you don't get accepted by your preferred sixth form or college</td>\n",
       "      <td>GCSE results have landed, making it a happy day for some but a day others may want to forget. So what do you do if you didn't get into the sixth form you wanted? Can you resit your GCSE exams?</td>\n",
       "      <td>https://www.dailymail.co.uk/news/gcse/article-12432147/URL-gcse-results-sixth-form-college-grades-not-accepted-alternatives.html?ns_mchannel=rss&amp;ito=1490&amp;ns_campaign=1490</td>\n",
       "      <td>Daily Mail</td>\n",
       "    </tr>\n",
       "    <tr>\n",
       "      <th>2</th>\n",
       "      <td>Yevgeny Prigozhin was assassinated 'as a gift for Zelensky to celebrate Ukraine's victory day today', Putin's former spokesman claims</td>\n",
       "      <td>Sergei Markov, a stern supporter of the Russian president and formerly a close advisor, said it was 'absolutely clear that Prigozhin [was] killed by [the] Ukrainian intelligence service.'</td>\n",
       "      <td>https://www.dailymail.co.uk/news/article-12440163/Yevgeny-Prigozhin-assassinated-gift-Zelensky-celebrate-Ukraines-victory-day-today-Putins-former-spokesman-claims.html?ns_mchannel=rss&amp;ito=1490&amp;ns_campaign=1490</td>\n",
       "      <td>Daily Mail</td>\n",
       "    </tr>\n",
       "    <tr>\n",
       "      <th>3</th>\n",
       "      <td>Moscow court extends arrest of jailed WSJ reporter Evan...</td>\n",
       "      <td>US citizen Evan Gershokovich, who was jailed in Russia on espionage charges which can carry up to 20 years in prison, has had his pre-trial detention extended to November 30.</td>\n",
       "      <td>https://www.dailymail.co.uk/news/article-12440087/Jailed-WSJ-reporter-Evan-Gershkovich-arrives-hearing-extending-detention.html?ns_mchannel=rss&amp;ito=1490&amp;ns_campaign=1490</td>\n",
       "      <td>Daily Mail</td>\n",
       "    </tr>\n",
       "    <tr>\n",
       "      <th>4</th>\n",
       "      <td>GCSE results day 2023 LIVE: Pass grades fall for second year running in England, Wales and Northern Ireland  - with 68.2% marked at 4/C</td>\n",
       "      <td>Follow MailOnline's liveblog today as hundreds of thousands of pupils in England, Wales and Northern Ireland pick up their GCSE results.</td>\n",
       "      <td>https://www.dailymail.co.uk/news/live/article-12439999/gcse-results-day-live-2023-exams-students-college-sixth-form.html?ns_mchannel=rss&amp;ito=1490&amp;ns_campaign=1490</td>\n",
       "      <td>Daily Mail</td>\n",
       "    </tr>\n",
       "  </tbody>\n",
       "</table>\n",
       "</div>"
      ],
      "text/plain": [
       "                                                                                                                                                                     title  \\\n",
       "0  Top GCSE marks tumble by 4.3% and passes return to pre-Covid levels - as students in England suffer sharpest drop while Wales and Northern Ireland keep inflated grades   \n",
       "1  Fell short on GCSE results day? Here's what to do you don't get accepted by your preferred sixth form or college                                                          \n",
       "2  Yevgeny Prigozhin was assassinated 'as a gift for Zelensky to celebrate Ukraine's victory day today', Putin's former spokesman claims                                     \n",
       "3  Moscow court extends arrest of jailed WSJ reporter Evan...                                                                                                                \n",
       "4  GCSE results day 2023 LIVE: Pass grades fall for second year running in England, Wales and Northern Ireland  - with 68.2% marked at 4/C                                   \n",
       "\n",
       "                                                                                                                                                                                        description  \\\n",
       "0  Hundreds of thousands of teenagers across Britain received their GCSE results today in a year when efforts have been made in England to return grading to pre-pandemic levels.                     \n",
       "1  GCSE results have landed, making it a happy day for some but a day others may want to forget. So what do you do if you didn't get into the sixth form you wanted? Can you resit your GCSE exams?   \n",
       "2  Sergei Markov, a stern supporter of the Russian president and formerly a close advisor, said it was 'absolutely clear that Prigozhin [was] killed by [the] Ukrainian intelligence service.'        \n",
       "3  US citizen Evan Gershokovich, who was jailed in Russia on espionage charges which can carry up to 20 years in prison, has had his pre-trial detention extended to November 30.                     \n",
       "4  Follow MailOnline's liveblog today as hundreds of thousands of pupils in England, Wales and Northern Ireland pick up their GCSE results.                                                           \n",
       "\n",
       "                                                                                                                                                                                                                link  \\\n",
       "0  https://www.dailymail.co.uk/news/article-12440091/Top-GCSE-marks-drop-203-000-fewer-7-9-grades.html?ns_mchannel=rss&ito=1490&ns_campaign=1490                                                                       \n",
       "1  https://www.dailymail.co.uk/news/gcse/article-12432147/URL-gcse-results-sixth-form-college-grades-not-accepted-alternatives.html?ns_mchannel=rss&ito=1490&ns_campaign=1490                                          \n",
       "2  https://www.dailymail.co.uk/news/article-12440163/Yevgeny-Prigozhin-assassinated-gift-Zelensky-celebrate-Ukraines-victory-day-today-Putins-former-spokesman-claims.html?ns_mchannel=rss&ito=1490&ns_campaign=1490   \n",
       "3  https://www.dailymail.co.uk/news/article-12440087/Jailed-WSJ-reporter-Evan-Gershkovich-arrives-hearing-extending-detention.html?ns_mchannel=rss&ito=1490&ns_campaign=1490                                           \n",
       "4  https://www.dailymail.co.uk/news/live/article-12439999/gcse-results-day-live-2023-exams-students-college-sixth-form.html?ns_mchannel=rss&ito=1490&ns_campaign=1490                                                  \n",
       "\n",
       "       source  \n",
       "0  Daily Mail  \n",
       "1  Daily Mail  \n",
       "2  Daily Mail  \n",
       "3  Daily Mail  \n",
       "4  Daily Mail  "
      ]
     },
     "execution_count": 89,
     "metadata": {},
     "output_type": "execute_result"
    }
   ],
   "source": [
    "articles = pd.read_csv(\"./data/articles.csv\")\n",
    "\n",
    "articles.head()"
   ]
  },
  {
   "cell_type": "markdown",
   "metadata": {},
   "source": [
    "## Processing"
   ]
  },
  {
   "cell_type": "code",
   "execution_count": 90,
   "metadata": {},
   "outputs": [],
   "source": [
    "# Subset the data\n",
    "\n",
    "title_df = articles[[\"title\", \"source\"]].copy()"
   ]
  },
  {
   "cell_type": "code",
   "execution_count": 91,
   "metadata": {},
   "outputs": [],
   "source": [
    "title_df[\"keywords\"] = title_df[\"title\"].str.lower()"
   ]
  },
  {
   "cell_type": "code",
   "execution_count": 92,
   "metadata": {},
   "outputs": [],
   "source": [
    "# Split into tokens\n",
    "\n",
    "title_df[\"keywords\"] = title_df[\"keywords\"].apply(word_tokenize)"
   ]
  },
  {
   "cell_type": "code",
   "execution_count": 93,
   "metadata": {},
   "outputs": [],
   "source": [
    "\n",
    "# Create an object that can be used to lemmatise\n",
    "\n",
    "lemma = WordNetLemmatizer()\n",
    "\n",
    "# Create a dictionary to map tags to ones that the lemmatiser will understand.\n",
    "\n",
    "tag_map = defaultdict(lambda : \"n\")  # by default, assume nouns\n",
    "tag_map['J'] = \"a\"  # adjectives\n",
    "tag_map['V'] = \"v\"  # verbs\n",
    "tag_map['R'] = \"r\"  # adverbs\n",
    "\n",
    "# Create a function to get the pos tags for a set of tokens, and return the tokens in a way the\n",
    "# lemmatizer can interpret\n",
    "def get_wordnet_tags(tokens):\n",
    "    \"\"\"Returns WordNet pos_tags for a set of tokens\"\"\"\n",
    "    \n",
    "    # Tag tokens with pos_tagger\n",
    "    tagged_tokens = pos_tag(tokens)\n",
    "    \n",
    "    # Convert each tag to a version wordnet can understand\n",
    "    tagged_tokens = [(token[0], tag_map[token[1][0]]) for token in tagged_tokens]\n",
    "    \n",
    "    return tagged_tokens"
   ]
  },
  {
   "cell_type": "code",
   "execution_count": 94,
   "metadata": {},
   "outputs": [],
   "source": [
    "# pos_tag the tokens\n",
    "\n",
    "title_df[\"keywords\"] = title_df[\"keywords\"].apply(get_wordnet_tags)\n",
    "\n",
    "# Lemmatise the tokens\n",
    "\n",
    "title_df[\"keywords\"] = title_df[\"keywords\"].apply(lambda tokens: [lemma.lemmatize(word=token[0], pos=token[1]) for token in tokens])"
   ]
  },
  {
   "cell_type": "code",
   "execution_count": 95,
   "metadata": {},
   "outputs": [],
   "source": [
    "# Filter out punctuation, stop words, and very short words\n",
    "\n",
    "stops = stopwords.words(\"english\")\n",
    "\n",
    "# Add specific stopwords\n",
    "\n",
    "stops.extend([\"n't\"])\n",
    "\n",
    "important_short_words = [\"pm\", \"us\", \"uk\", \"gb\"]\n",
    "\n",
    "def filter_tokens(tokens):\n",
    "\n",
    "    return [t for t in tokens\n",
    "            if t not in stops\n",
    "            and (len(t) > 2 or t in important_short_words)]\n",
    "\n",
    "title_df[\"keywords\"] = title_df[\"keywords\"].apply(filter_tokens)"
   ]
  },
  {
   "cell_type": "code",
   "execution_count": 96,
   "metadata": {},
   "outputs": [],
   "source": [
    "# Remove specifically apostrophes\n",
    "\n",
    "title_df[\"keywords\"] = title_df[\"keywords\"].apply(lambda tokens: [x.replace(\"'\", \"\") for x in tokens])"
   ]
  },
  {
   "cell_type": "code",
   "execution_count": 97,
   "metadata": {},
   "outputs": [],
   "source": [
    "# Join token lists back into strings\n",
    "\n",
    "title_df[\"keywords\"] = title_df[\"keywords\"].apply(lambda tokens: \" \".join(tokens))"
   ]
  },
  {
   "cell_type": "code",
   "execution_count": 98,
   "metadata": {},
   "outputs": [
    {
     "data": {
      "text/html": [
       "<div>\n",
       "<style scoped>\n",
       "    .dataframe tbody tr th:only-of-type {\n",
       "        vertical-align: middle;\n",
       "    }\n",
       "\n",
       "    .dataframe tbody tr th {\n",
       "        vertical-align: top;\n",
       "    }\n",
       "\n",
       "    .dataframe thead th {\n",
       "        text-align: right;\n",
       "    }\n",
       "</style>\n",
       "<table border=\"1\" class=\"dataframe\">\n",
       "  <thead>\n",
       "    <tr style=\"text-align: right;\">\n",
       "      <th></th>\n",
       "      <th>title</th>\n",
       "      <th>source</th>\n",
       "      <th>keywords</th>\n",
       "    </tr>\n",
       "  </thead>\n",
       "  <tbody>\n",
       "    <tr>\n",
       "      <th>148</th>\n",
       "      <td>The Hundred 2023: Birmingham Phoenix all-rounder Benny Howell on how ADHD affects his game</td>\n",
       "      <td>BBC</td>\n",
       "      <td>hundred 2023 birmingham phoenix all-round benny howell adhd affect game</td>\n",
       "    </tr>\n",
       "    <tr>\n",
       "      <th>58</th>\n",
       "      <td>Kemi Badenoch hails the UK's 'thriving relationship' with India as talks progress for a major new trade deal</td>\n",
       "      <td>Daily Mail</td>\n",
       "      <td>kemi badenoch hail uk thriving relationship india talk progress major new trade deal</td>\n",
       "    </tr>\n",
       "    <tr>\n",
       "      <th>96</th>\n",
       "      <td>Inheritance tax penalties soar as more families fall foul of the rules</td>\n",
       "      <td>Daily Mail</td>\n",
       "      <td>inheritance tax penalty soar family fall foul rule</td>\n",
       "    </tr>\n",
       "  </tbody>\n",
       "</table>\n",
       "</div>"
      ],
      "text/plain": [
       "                                                                                                            title  \\\n",
       "148  The Hundred 2023: Birmingham Phoenix all-rounder Benny Howell on how ADHD affects his game                     \n",
       "58   Kemi Badenoch hails the UK's 'thriving relationship' with India as talks progress for a major new trade deal   \n",
       "96   Inheritance tax penalties soar as more families fall foul of the rules                                         \n",
       "\n",
       "         source  \\\n",
       "148  BBC          \n",
       "58   Daily Mail   \n",
       "96   Daily Mail   \n",
       "\n",
       "                                                                                 keywords  \n",
       "148  hundred 2023 birmingham phoenix all-round benny howell adhd affect game               \n",
       "58   kemi badenoch hail uk thriving relationship india talk progress major new trade deal  \n",
       "96   inheritance tax penalty soar family fall foul rule                                    "
      ]
     },
     "execution_count": 98,
     "metadata": {},
     "output_type": "execute_result"
    }
   ],
   "source": [
    "title_df.sample(3)"
   ]
  },
  {
   "cell_type": "markdown",
   "metadata": {},
   "source": [
    "## Data export"
   ]
  },
  {
   "cell_type": "code",
   "execution_count": 100,
   "metadata": {},
   "outputs": [],
   "source": [
    "title_df.to_csv(\"./data/processed_headlines.csv\", index=False)"
   ]
  }
 ],
 "metadata": {
  "kernelspec": {
   "display_name": "venv",
   "language": "python",
   "name": "python3"
  },
  "language_info": {
   "codemirror_mode": {
    "name": "ipython",
    "version": 3
   },
   "file_extension": ".py",
   "mimetype": "text/x-python",
   "name": "python",
   "nbconvert_exporter": "python",
   "pygments_lexer": "ipython3",
   "version": "3.11.4"
  },
  "orig_nbformat": 4
 },
 "nbformat": 4,
 "nbformat_minor": 2
}
